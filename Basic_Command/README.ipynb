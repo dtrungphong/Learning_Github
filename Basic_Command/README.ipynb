{
 "cells": [
  {
   "cell_type": "markdown",
   "metadata": {},
   "source": [
    "# Hướng dẫn một số lệnh Github cơ bản"
   ]
  },
  {
   "cell_type": "markdown",
   "metadata": {},
   "source": [
    "### Giới thiệu"
   ]
  },
  {
   "cell_type": "markdown",
   "metadata": {},
   "source": [
    "- Bài viết sẽ hướng dẫn tạo một repository và một số lệnh cơ bản\n",
    "- Các bạn có thể áp dụng để tải thư mực lên và lưu trữ một số  dữ liệu quan trọng\n",
    "- Bài viết sau mình sẽ hướng dẫn các bạn thực hiện trong một project"
   ]
  },
  {
   "cell_type": "markdown",
   "metadata": {},
   "source": [
    "### Tạo repository"
   ]
  },
  {
   "cell_type": "markdown",
   "metadata": {},
   "source": [
    "- Trước tiên, bạn cần tạo một tài khoản github trước\n",
    "- Ở đây mình sử dụng tài khoản của mình. Dưới đây là những repository đã được tạo từ trước."
   ]
  },
  {
   "cell_type": "markdown",
   "metadata": {},
   "source": [
    "![image_repository]()"
   ]
  },
  {
   "cell_type": "markdown",
   "metadata": {},
   "source": [
    "- Bạn chọn **New** và điền đầy đủ thông tin để tạo một repository\n",
    "\n",
    "![image_new_respository]()"
   ]
  },
  {
   "cell_type": "markdown",
   "metadata": {},
   "source": [
    "- Ở đây mình đã tạo ra thành công một repository mới với tên là **Learning_Gituhb**\n",
    "\n",
    "![image_complete_new_respo]()"
   ]
  },
  {
   "cell_type": "markdown",
   "metadata": {},
   "source": [
    "- Như vậy bạn đã tạo thành công một repository mới. Tiếp theo sẽ là vài lệnh cơ bản trong Github"
   ]
  },
  {
   "cell_type": "markdown",
   "metadata": {},
   "source": [
    "### Các lệnh cơ bản"
   ]
  },
  {
   "cell_type": "markdown",
   "metadata": {},
   "source": [
    "- Sao chép (Clone) một repository về với lệnh:"
   ]
  },
  {
   "cell_type": "code",
   "execution_count": null,
   "metadata": {},
   "outputs": [],
   "source": [
    "git clone /Đường dẫn để clone repository đấy/"
   ]
  },
  {
   "cell_type": "markdown",
   "metadata": {},
   "source": [
    "    - Ở đây ta sẽ lấy đường dẫn clone này về và chạy với lênh terminal \n",
    "\n",
    "![image_clone]()\n",
    "\n",
    "    - Ví dụ:"
   ]
  },
  {
   "cell_type": "code",
   "execution_count": null,
   "metadata": {},
   "outputs": [],
   "source": [
    "git clone https://github.com/dtrungphong/Learning_Github.git  "
   ]
  },
  {
   "cell_type": "markdown",
   "metadata": {},
   "source": [
    "    - Ngoài ra bạn có thể sử dụng một số cách khác như Download dưới dạng file Zip về và giải nén\n",
    "    - Sau khi chúng ta clone về sẽ có thư mục chứa tên của repository"
   ]
  },
  {
   "cell_type": "markdown",
   "metadata": {},
   "source": [
    "- Thao tác tải thư mục lên github với repository đã được clone về từ trước:"
   ]
  },
  {
   "cell_type": "code",
   "execution_count": null,
   "metadata": {},
   "outputs": [],
   "source": [
    "git add *"
   ]
  },
  {
   "cell_type": "markdown",
   "metadata": {},
   "source": [
    "    - Với git add * sẽ giúp bạn cập nhật toàn bộ thay đổi trong thư mục được repository về\n",
    "    - Ngoài ra bạn có thể dùng git add 'tên folder cần cập nhật lên'\n",
    "    - Ở đây nó đang nằm chờ ở vùng chỉ mục và chờ được cập nhật lên trên github"
   ]
  },
  {
   "cell_type": "code",
   "execution_count": null,
   "metadata": {},
   "outputs": [],
   "source": [
    "git commit -m \"Nội dung\""
   ]
  },
  {
   "cell_type": "markdown",
   "metadata": {},
   "source": [
    "    - Nó sẽ giúp bạn ghi chú phần cập nhật thay đổi và tải lên Head trước khi được cập nhật lên github"
   ]
  },
  {
   "cell_type": "code",
   "execution_count": null,
   "metadata": {},
   "outputs": [],
   "source": [
    "git push origin master"
   ]
  },
  {
   "cell_type": "markdown",
   "metadata": {},
   "source": [
    "    - Nó giúp giúp bạn đẩy (push) những thay đổi lên trên trang github\n",
    "    - Lưu ý phần này đôi khi nó sẽ yêu cầu bạn cần nhập tài khoản mật khẩu github để xác định bạn là ai"
   ]
  },
  {
   "cell_type": "markdown",
   "metadata": {},
   "source": [
    "- Lệnh Kiểm tra bạn đang ở nhánh (Branch) nào:"
   ]
  },
  {
   "cell_type": "code",
   "execution_count": null,
   "metadata": {},
   "outputs": [],
   "source": [
    "git status"
   ]
  },
  {
   "cell_type": "markdown",
   "metadata": {},
   "source": [
    "- Liệt kê những danh sách đang được sử dụng "
   ]
  },
  {
   "cell_type": "code",
   "execution_count": null,
   "metadata": {},
   "outputs": [],
   "source": [
    "git config --list"
   ]
  },
  {
   "cell_type": "markdown",
   "metadata": {},
   "source": [
    "- Xem thông tin hỗ trợ cho một câu lệnh của Github:"
   ]
  },
  {
   "cell_type": "code",
   "execution_count": null,
   "metadata": {},
   "outputs": [],
   "source": [
    "git help clone"
   ]
  },
  {
   "cell_type": "markdown",
   "metadata": {},
   "source": [
    "- Ngoài ra còn nhiều lệnh khác nữa mình sẽ xây dựng và đóng góp bổ sung trong phần 2 đối với một dự án project\n",
    "- Mong được sự đóp góp và góp ý của các bạn về bài viết"
   ]
  },
  {
   "cell_type": "markdown",
   "metadata": {},
   "source": [
    "**Contact:**\n",
    "- Phone: +84352083974\n",
    "- Mail: dtphong010199@gmail.com"
   ]
  },
  {
   "cell_type": "markdown",
   "metadata": {},
   "source": [
    "### Nguồn hỗ trợ"
   ]
  },
  {
   "cell_type": "markdown",
   "metadata": {},
   "source": [
    "- Hỗ trợ từ [github](https://help.github.com/en)\n",
    "- [Git Book](https://book.git-scm.com/)\n",
    "- Link tiếng Việt 1 [tham khảo](https://rogerdudler.github.io/git-guide/index.vi.html)\n",
    "- Link tiếng Việt 2 [tham khảo](https://viblo.asia/p/tap-hop-nhung-cau-lenh-git-huu-dung-dWrvwWr2vw38)"
   ]
  }
 ],
 "metadata": {
  "kernelspec": {
   "display_name": "Python 3",
   "language": "python",
   "name": "python3"
  },
  "language_info": {
   "codemirror_mode": {
    "name": "ipython",
    "version": 3
   },
   "file_extension": ".py",
   "mimetype": "text/x-python",
   "name": "python",
   "nbconvert_exporter": "python",
   "pygments_lexer": "ipython3",
   "version": "3.7.0"
  }
 },
 "nbformat": 4,
 "nbformat_minor": 2
}
